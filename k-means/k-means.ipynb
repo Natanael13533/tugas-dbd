{
 "cells": [
  {
   "cell_type": "code",
   "execution_count": 1,
   "id": "9f7183b1",
   "metadata": {},
   "outputs": [],
   "source": [
    "import pandas as pd\n",
    "import matplotlib.pyplot as plt"
   ]
  },
  {
   "cell_type": "code",
   "execution_count": 2,
   "id": "15e63bca",
   "metadata": {},
   "outputs": [],
   "source": [
    "df = pd.read_csv('dbd.csv', delimiter=';', nrows=89)"
   ]
  },
  {
   "cell_type": "code",
   "execution_count": 3,
   "id": "d056d698",
   "metadata": {},
   "outputs": [
    {
     "name": "stdout",
     "output_type": "stream",
     "text": [
      "                          Nama       Alamat Kelamin  Umur\n",
      "0   Anggun Kholifatul Khasanah   Karangrejo       P  11.0\n",
      "1      Anggun Afifah Nurulaini  Pandanharum       P   3.0\n",
      "2         Faizul Naam Hafizhan   Karangrejo       L   2.0\n",
      "3                        Murni        Gabus       P  59.0\n",
      "4          Salsabila Aufa Puji     Kalipang       P  11.0\n",
      "..                         ...          ...     ...   ...\n",
      "84               Faleshia Zoya   Bendoharjo       P   5.0\n",
      "85         Hafidzah Prominensa        Gabus       P  10.0\n",
      "86     Oktaviana Galih Pratiwi  Pandanharum       P  21.0\n",
      "87      Khaliza Shesha Safitri   Bendoharjo       P   1.0\n",
      "88                    Alfiatun  Pandanharum       P   2.0\n",
      "\n",
      "[89 rows x 4 columns]\n"
     ]
    }
   ],
   "source": [
    "print(df)"
   ]
  },
  {
   "cell_type": "code",
   "execution_count": 4,
   "id": "7921ec53",
   "metadata": {},
   "outputs": [],
   "source": [
    "df['Kelamin'].fillna(df['Kelamin'].mode().iloc[0], inplace=True)\n",
    "df['Umur'].fillna(df['Umur'].median(), inplace=True)"
   ]
  },
  {
   "cell_type": "code",
   "execution_count": 5,
   "id": "48e5e3c9",
   "metadata": {},
   "outputs": [
    {
     "name": "stdout",
     "output_type": "stream",
     "text": [
      "                          Nama       Alamat Kelamin  Umur\n",
      "0   Anggun Kholifatul Khasanah   Karangrejo       P  11.0\n",
      "1      Anggun Afifah Nurulaini  Pandanharum       P   3.0\n",
      "2         Faizul Naam Hafizhan   Karangrejo       L   2.0\n",
      "3                        Murni        Gabus       P  59.0\n",
      "4          Salsabila Aufa Puji     Kalipang       P  11.0\n",
      "..                         ...          ...     ...   ...\n",
      "84               Faleshia Zoya   Bendoharjo       P   5.0\n",
      "85         Hafidzah Prominensa        Gabus       P  10.0\n",
      "86     Oktaviana Galih Pratiwi  Pandanharum       P  21.0\n",
      "87      Khaliza Shesha Safitri   Bendoharjo       P   1.0\n",
      "88                    Alfiatun  Pandanharum       P   2.0\n",
      "\n",
      "[89 rows x 4 columns]\n"
     ]
    }
   ],
   "source": [
    "print(df)"
   ]
  },
  {
   "cell_type": "code",
   "execution_count": 6,
   "id": "d9987171",
   "metadata": {},
   "outputs": [],
   "source": [
    "X = df.iloc[:, [2, 3]].values"
   ]
  },
  {
   "cell_type": "code",
   "execution_count": 7,
   "id": "a431aa55",
   "metadata": {},
   "outputs": [
    {
     "name": "stdout",
     "output_type": "stream",
     "text": [
      "[['P' 11.0]\n",
      " ['P' 3.0]\n",
      " ['L' 2.0]\n",
      " ['P' 59.0]\n",
      " ['P' 11.0]\n",
      " ['L' 8.0]\n",
      " ['L' 11.0]\n",
      " ['L' 7.0]\n",
      " ['L' 13.0]\n",
      " ['P' 17.0]\n",
      " ['P' 29.0]\n",
      " ['L' 5.0]\n",
      " ['L' 12.0]\n",
      " ['P' 4.0]\n",
      " ['P' 12.0]\n",
      " ['L' 7.0]\n",
      " ['P' 11.0]\n",
      " ['L' 17.0]\n",
      " ['P' 11.0]\n",
      " ['L' 16.0]\n",
      " ['P' 62.0]\n",
      " ['P' 32.0]\n",
      " ['P' 3.0]\n",
      " ['P' 66.0]\n",
      " ['P' 4.0]\n",
      " ['P' 11.0]\n",
      " ['P' 12.0]\n",
      " ['P' 12.0]\n",
      " ['P' 66.0]\n",
      " ['P' 6.0]\n",
      " ['P' 4.0]\n",
      " ['P' 13.0]\n",
      " ['P' 6.0]\n",
      " ['P' 13.0]\n",
      " ['P' 8.0]\n",
      " ['P' 11.0]\n",
      " ['P' 17.0]\n",
      " ['P' 2.0]\n",
      " ['P' 15.0]\n",
      " ['P' 3.0]\n",
      " ['P' 10.0]\n",
      " ['P' 10.0]\n",
      " ['P' 10.0]\n",
      " ['P' 10.0]\n",
      " ['P' 15.0]\n",
      " ['P' 21.0]\n",
      " ['P' 8.0]\n",
      " ['P' 6.0]\n",
      " ['P' 1.0]\n",
      " ['L' 16.0]\n",
      " ['P' 4.0]\n",
      " ['P' 11.0]\n",
      " ['P' 14.0]\n",
      " ['P' 8.0]\n",
      " ['P' 11.0]\n",
      " ['L' 10.0]\n",
      " ['L' 24.0]\n",
      " ['L' 18.0]\n",
      " ['P' 13.0]\n",
      " ['P' 26.0]\n",
      " ['L' 15.0]\n",
      " ['L' 11.0]\n",
      " ['P' 7.0]\n",
      " ['P' 7.0]\n",
      " ['P' 11.0]\n",
      " ['P' 9.0]\n",
      " ['L' 9.0]\n",
      " ['P' 16.0]\n",
      " ['P' 4.0]\n",
      " ['P' 29.0]\n",
      " ['L' 11.0]\n",
      " ['L' 10.0]\n",
      " ['L' 7.0]\n",
      " ['L' 11.0]\n",
      " ['P' 20.0]\n",
      " ['P' 7.0]\n",
      " ['L' 12.0]\n",
      " ['L' 4.0]\n",
      " ['L' 5.0]\n",
      " ['P' 9.0]\n",
      " ['L' 11.0]\n",
      " ['L' 13.0]\n",
      " ['L' 23.0]\n",
      " ['P' 3.0]\n",
      " ['P' 5.0]\n",
      " ['P' 10.0]\n",
      " ['P' 21.0]\n",
      " ['P' 1.0]\n",
      " ['P' 2.0]]\n"
     ]
    }
   ],
   "source": [
    "print(X)"
   ]
  },
  {
   "cell_type": "code",
   "execution_count": 9,
   "id": "1cd0eab8",
   "metadata": {},
   "outputs": [],
   "source": [
    "from sklearn.preprocessing import LabelEncoder\n",
    "\n",
    "label_encoder = LabelEncoder()\n",
    "X[:, 0] = label_encoder.fit_transform(X[:, 0])"
   ]
  },
  {
   "cell_type": "code",
   "execution_count": 10,
   "id": "6d43e718",
   "metadata": {},
   "outputs": [
    {
     "name": "stdout",
     "output_type": "stream",
     "text": [
      "[[1 11.0]\n",
      " [1 3.0]\n",
      " [0 2.0]\n",
      " [1 59.0]\n",
      " [1 11.0]\n",
      " [0 8.0]\n",
      " [0 11.0]\n",
      " [0 7.0]\n",
      " [0 13.0]\n",
      " [1 17.0]\n",
      " [1 29.0]\n",
      " [0 5.0]\n",
      " [0 12.0]\n",
      " [1 4.0]\n",
      " [1 12.0]\n",
      " [0 7.0]\n",
      " [1 11.0]\n",
      " [0 17.0]\n",
      " [1 11.0]\n",
      " [0 16.0]\n",
      " [1 62.0]\n",
      " [1 32.0]\n",
      " [1 3.0]\n",
      " [1 66.0]\n",
      " [1 4.0]\n",
      " [1 11.0]\n",
      " [1 12.0]\n",
      " [1 12.0]\n",
      " [1 66.0]\n",
      " [1 6.0]\n",
      " [1 4.0]\n",
      " [1 13.0]\n",
      " [1 6.0]\n",
      " [1 13.0]\n",
      " [1 8.0]\n",
      " [1 11.0]\n",
      " [1 17.0]\n",
      " [1 2.0]\n",
      " [1 15.0]\n",
      " [1 3.0]\n",
      " [1 10.0]\n",
      " [1 10.0]\n",
      " [1 10.0]\n",
      " [1 10.0]\n",
      " [1 15.0]\n",
      " [1 21.0]\n",
      " [1 8.0]\n",
      " [1 6.0]\n",
      " [1 1.0]\n",
      " [0 16.0]\n",
      " [1 4.0]\n",
      " [1 11.0]\n",
      " [1 14.0]\n",
      " [1 8.0]\n",
      " [1 11.0]\n",
      " [0 10.0]\n",
      " [0 24.0]\n",
      " [0 18.0]\n",
      " [1 13.0]\n",
      " [1 26.0]\n",
      " [0 15.0]\n",
      " [0 11.0]\n",
      " [1 7.0]\n",
      " [1 7.0]\n",
      " [1 11.0]\n",
      " [1 9.0]\n",
      " [0 9.0]\n",
      " [1 16.0]\n",
      " [1 4.0]\n",
      " [1 29.0]\n",
      " [0 11.0]\n",
      " [0 10.0]\n",
      " [0 7.0]\n",
      " [0 11.0]\n",
      " [1 20.0]\n",
      " [1 7.0]\n",
      " [0 12.0]\n",
      " [0 4.0]\n",
      " [0 5.0]\n",
      " [1 9.0]\n",
      " [0 11.0]\n",
      " [0 13.0]\n",
      " [0 23.0]\n",
      " [1 3.0]\n",
      " [1 5.0]\n",
      " [1 10.0]\n",
      " [1 21.0]\n",
      " [1 1.0]\n",
      " [1 2.0]]\n"
     ]
    }
   ],
   "source": [
    "print(X)"
   ]
  },
  {
   "cell_type": "code",
   "execution_count": 13,
   "id": "d93afe42",
   "metadata": {},
   "outputs": [
    {
     "name": "stderr",
     "output_type": "stream",
     "text": [
      "C:\\Users\\natha\\anaconda3\\Lib\\site-packages\\sklearn\\cluster\\_kmeans.py:1412: FutureWarning: The default value of `n_init` will change from 10 to 'auto' in 1.4. Set the value of `n_init` explicitly to suppress the warning\n",
      "  super()._check_params_vs_input(X, default_n_init=10)\n",
      "C:\\Users\\natha\\anaconda3\\Lib\\site-packages\\sklearn\\cluster\\_kmeans.py:1436: UserWarning: KMeans is known to have a memory leak on Windows with MKL, when there are less chunks than available threads. You can avoid it by setting the environment variable OMP_NUM_THREADS=1.\n",
      "  warnings.warn(\n"
     ]
    },
    {
     "data": {
      "text/html": [
       "<style>#sk-container-id-1 {color: black;}#sk-container-id-1 pre{padding: 0;}#sk-container-id-1 div.sk-toggleable {background-color: white;}#sk-container-id-1 label.sk-toggleable__label {cursor: pointer;display: block;width: 100%;margin-bottom: 0;padding: 0.3em;box-sizing: border-box;text-align: center;}#sk-container-id-1 label.sk-toggleable__label-arrow:before {content: \"▸\";float: left;margin-right: 0.25em;color: #696969;}#sk-container-id-1 label.sk-toggleable__label-arrow:hover:before {color: black;}#sk-container-id-1 div.sk-estimator:hover label.sk-toggleable__label-arrow:before {color: black;}#sk-container-id-1 div.sk-toggleable__content {max-height: 0;max-width: 0;overflow: hidden;text-align: left;background-color: #f0f8ff;}#sk-container-id-1 div.sk-toggleable__content pre {margin: 0.2em;color: black;border-radius: 0.25em;background-color: #f0f8ff;}#sk-container-id-1 input.sk-toggleable__control:checked~div.sk-toggleable__content {max-height: 200px;max-width: 100%;overflow: auto;}#sk-container-id-1 input.sk-toggleable__control:checked~label.sk-toggleable__label-arrow:before {content: \"▾\";}#sk-container-id-1 div.sk-estimator input.sk-toggleable__control:checked~label.sk-toggleable__label {background-color: #d4ebff;}#sk-container-id-1 div.sk-label input.sk-toggleable__control:checked~label.sk-toggleable__label {background-color: #d4ebff;}#sk-container-id-1 input.sk-hidden--visually {border: 0;clip: rect(1px 1px 1px 1px);clip: rect(1px, 1px, 1px, 1px);height: 1px;margin: -1px;overflow: hidden;padding: 0;position: absolute;width: 1px;}#sk-container-id-1 div.sk-estimator {font-family: monospace;background-color: #f0f8ff;border: 1px dotted black;border-radius: 0.25em;box-sizing: border-box;margin-bottom: 0.5em;}#sk-container-id-1 div.sk-estimator:hover {background-color: #d4ebff;}#sk-container-id-1 div.sk-parallel-item::after {content: \"\";width: 100%;border-bottom: 1px solid gray;flex-grow: 1;}#sk-container-id-1 div.sk-label:hover label.sk-toggleable__label {background-color: #d4ebff;}#sk-container-id-1 div.sk-serial::before {content: \"\";position: absolute;border-left: 1px solid gray;box-sizing: border-box;top: 0;bottom: 0;left: 50%;z-index: 0;}#sk-container-id-1 div.sk-serial {display: flex;flex-direction: column;align-items: center;background-color: white;padding-right: 0.2em;padding-left: 0.2em;position: relative;}#sk-container-id-1 div.sk-item {position: relative;z-index: 1;}#sk-container-id-1 div.sk-parallel {display: flex;align-items: stretch;justify-content: center;background-color: white;position: relative;}#sk-container-id-1 div.sk-item::before, #sk-container-id-1 div.sk-parallel-item::before {content: \"\";position: absolute;border-left: 1px solid gray;box-sizing: border-box;top: 0;bottom: 0;left: 50%;z-index: -1;}#sk-container-id-1 div.sk-parallel-item {display: flex;flex-direction: column;z-index: 1;position: relative;background-color: white;}#sk-container-id-1 div.sk-parallel-item:first-child::after {align-self: flex-end;width: 50%;}#sk-container-id-1 div.sk-parallel-item:last-child::after {align-self: flex-start;width: 50%;}#sk-container-id-1 div.sk-parallel-item:only-child::after {width: 0;}#sk-container-id-1 div.sk-dashed-wrapped {border: 1px dashed gray;margin: 0 0.4em 0.5em 0.4em;box-sizing: border-box;padding-bottom: 0.4em;background-color: white;}#sk-container-id-1 div.sk-label label {font-family: monospace;font-weight: bold;display: inline-block;line-height: 1.2em;}#sk-container-id-1 div.sk-label-container {text-align: center;}#sk-container-id-1 div.sk-container {/* jupyter's `normalize.less` sets `[hidden] { display: none; }` but bootstrap.min.css set `[hidden] { display: none !important; }` so we also need the `!important` here to be able to override the default hidden behavior on the sphinx rendered scikit-learn.org. See: https://github.com/scikit-learn/scikit-learn/issues/21755 */display: inline-block !important;position: relative;}#sk-container-id-1 div.sk-text-repr-fallback {display: none;}</style><div id=\"sk-container-id-1\" class=\"sk-top-container\"><div class=\"sk-text-repr-fallback\"><pre>KMeans(n_clusters=2, random_state=42)</pre><b>In a Jupyter environment, please rerun this cell to show the HTML representation or trust the notebook. <br />On GitHub, the HTML representation is unable to render, please try loading this page with nbviewer.org.</b></div><div class=\"sk-container\" hidden><div class=\"sk-item\"><div class=\"sk-estimator sk-toggleable\"><input class=\"sk-toggleable__control sk-hidden--visually\" id=\"sk-estimator-id-1\" type=\"checkbox\" checked><label for=\"sk-estimator-id-1\" class=\"sk-toggleable__label sk-toggleable__label-arrow\">KMeans</label><div class=\"sk-toggleable__content\"><pre>KMeans(n_clusters=2, random_state=42)</pre></div></div></div></div></div>"
      ],
      "text/plain": [
       "KMeans(n_clusters=2, random_state=42)"
      ]
     },
     "execution_count": 13,
     "metadata": {},
     "output_type": "execute_result"
    }
   ],
   "source": [
    "from sklearn.cluster import KMeans\n",
    "\n",
    "kmeans = KMeans(n_clusters=2, random_state=42)\n",
    "kmeans.fit(X)"
   ]
  },
  {
   "cell_type": "code",
   "execution_count": 14,
   "id": "efc10b7b",
   "metadata": {},
   "outputs": [],
   "source": [
    "df['Cluster'] = kmeans.labels_"
   ]
  },
  {
   "cell_type": "code",
   "execution_count": 15,
   "id": "fd027625",
   "metadata": {},
   "outputs": [
    {
     "data": {
      "image/png": "[encoded data removed]",
      "text/plain": [
       "<Figure size 640x480 with 1 Axes>"
      ]
     },
     "metadata": {},
     "output_type": "display_data"
    }
   ],
   "source": [
    "plt.scatter(df['Umur'], df['Kelamin'], c=df['Cluster'], cmap='rainbow')\n",
    "plt.title('Clustering of Dengue Hemorrhagic Fever Patients')\n",
    "plt.xlabel('Umur')\n",
    "plt.ylabel('Kelamin')\n",
    "plt.show()"
   ]
  },
  {
   "cell_type": "code",
   "execution_count": 16,
   "id": "c69d98ec",
   "metadata": {},
   "outputs": [],
   "source": [
    "cluster_counts = df.groupby(['Cluster', 'Kelamin']).size().unstack()"
   ]
  },
  {
   "cell_type": "code",
   "execution_count": 17,
   "id": "64623c5e",
   "metadata": {},
   "outputs": [
    {
     "name": "stdout",
     "output_type": "stream",
     "text": [
      "Kelamin     L     P\n",
      "Cluster            \n",
      "0        27.0  58.0\n",
      "1         NaN   4.0\n"
     ]
    }
   ],
   "source": [
    "print(cluster_counts)"
   ]
  }
 ],
 "metadata": {
  "kernelspec": {
   "display_name": "Python 3 (ipykernel)",
   "language": "python",
   "name": "python3"
  },
  "language_info": {
   "codemirror_mode": {
    "name": "ipython",
    "version": 3
   },
   "file_extension": ".py",
   "mimetype": "text/x-python",
   "name": "python",
   "nbconvert_exporter": "python",
   "pygments_lexer": "ipython3",
   "version": "3.11.5"
  }
 },
 "nbformat": 4,
 "nbformat_minor": 5
}
