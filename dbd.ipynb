{
 "cells": [
  {
   "cell_type": "code",
   "execution_count": 18,
   "id": "11e0c374",
   "metadata": {},
   "outputs": [],
   "source": [
    "import numpy as np\n",
    "import matplotlib.pyplot as plt\n",
    "import pandas as pd"
   ]
  },
  {
   "cell_type": "code",
   "execution_count": 35,
   "id": "b29306bc",
   "metadata": {},
   "outputs": [],
   "source": [
    "dataset = pd.read_csv('dbd.csv', delimiter=\";\", nrows=89)"
   ]
  },
  {
   "cell_type": "code",
   "execution_count": 37,
   "id": "710f7cac",
   "metadata": {},
   "outputs": [],
   "source": [
    "dataset['Kelamin'].fillna(dataset['Kelamin'].mode().iloc[0], inplace=True)\n",
    "dataset['Umur'].fillna(dataset['Umur'].median(), inplace=True)"
   ]
  },
  {
   "cell_type": "code",
   "execution_count": 41,
   "id": "162cd825",
   "metadata": {},
   "outputs": [
    {
     "name": "stdout",
     "output_type": "stream",
     "text": [
      "                          Nama       Alamat Kelamin  Umur\n",
      "0   Anggun Kholifatul Khasanah   Karangrejo       P  11.0\n",
      "1      Anggun Afifah Nurulaini  Pandanharum       P   3.0\n",
      "2         Faizul Naam Hafizhan   Karangrejo       L   2.0\n",
      "3                        Murni        Gabus       P  59.0\n",
      "4          Salsabila Aufa Puji     Kalipang       P  11.0\n",
      "..                         ...          ...     ...   ...\n",
      "84               Faleshia Zoya   Bendoharjo       P   5.0\n",
      "85         Hafidzah Prominensa        Gabus       P  10.0\n",
      "86     Oktaviana Galih Pratiwi  Pandanharum       P  21.0\n",
      "87      Khaliza Shesha Safitri   Bendoharjo       P   1.0\n",
      "88                    Alfiatun  Pandanharum       P   2.0\n",
      "\n",
      "[89 rows x 4 columns]\n"
     ]
    }
   ],
   "source": [
    "print(dataset)"
   ]
  },
  {
   "cell_type": "code",
   "execution_count": 57,
   "id": "4c0824a4",
   "metadata": {},
   "outputs": [],
   "source": [
    "X = ['Umur', 'Kelamin']"
   ]
  },
  {
   "cell_type": "code",
   "execution_count": 58,
   "id": "c0de8dba",
   "metadata": {},
   "outputs": [
    {
     "name": "stdout",
     "output_type": "stream",
     "text": [
      "['Umur', 'Kelamin']\n"
     ]
    }
   ],
   "source": [
    "print(X)"
   ]
  },
  {
   "cell_type": "code",
   "execution_count": 63,
   "id": "d3ea0e94",
   "metadata": {},
   "outputs": [],
   "source": [
    "from sklearn.preprocessing import LabelEncoder\n",
    "\n",
    "label_encoder = LabelEncoder()\n",
    "dataset['Kelamin'] = label_encoder.fit_transform(dataset['Kelamin'])"
   ]
  },
  {
   "cell_type": "code",
   "execution_count": 64,
   "id": "41efa785",
   "metadata": {},
   "outputs": [
    {
     "name": "stdout",
     "output_type": "stream",
     "text": [
      "                          Nama       Alamat  Kelamin  Umur\n",
      "0   Anggun Kholifatul Khasanah   Karangrejo        1    10\n",
      "1      Anggun Afifah Nurulaini  Pandanharum        1     2\n",
      "2         Faizul Naam Hafizhan   Karangrejo        0     1\n",
      "3                        Murni        Gabus        1    25\n",
      "4          Salsabila Aufa Puji     Kalipang        1    10\n",
      "..                         ...          ...      ...   ...\n",
      "84               Faleshia Zoya   Bendoharjo        1     4\n",
      "85         Hafidzah Prominensa        Gabus        1     9\n",
      "86     Oktaviana Galih Pratiwi  Pandanharum        1    19\n",
      "87      Khaliza Shesha Safitri   Bendoharjo        1     0\n",
      "88                    Alfiatun  Pandanharum        1     1\n",
      "\n",
      "[89 rows x 4 columns]\n"
     ]
    }
   ],
   "source": [
    "print(dataset)"
   ]
  },
  {
   "cell_type": "code",
   "execution_count": 65,
   "id": "16ae1a5c",
   "metadata": {},
   "outputs": [],
   "source": [
    "from scipy.cluster.hierarchy import dendrogram, linkage\n",
    "from sklearn.cluster import AgglomerativeClustering\n",
    "\n",
    "linkage_matrix = linkage(dataset[X], method='ward')\n",
    "agglomerative = AgglomerativeClustering(n_clusters=2, linkage='ward')\n",
    "dataset['cluster'] = agglomerative.fit_predict(dataset[X].values)"
   ]
  },
  {
   "cell_type": "code",
   "execution_count": 66,
   "id": "baa7ead9",
   "metadata": {},
   "outputs": [
    {
     "name": "stdout",
     "output_type": "stream",
     "text": [
      "0     0\n",
      "1     0\n",
      "2     0\n",
      "3     1\n",
      "4     0\n",
      "     ..\n",
      "84    0\n",
      "85    0\n",
      "86    1\n",
      "87    0\n",
      "88    0\n",
      "Name: cluster, Length: 89, dtype: int64\n"
     ]
    }
   ],
   "source": [
    "print(dataset['cluster'])"
   ]
  },
  {
   "cell_type": "code",
   "execution_count": 67,
   "id": "033555f2",
   "metadata": {},
   "outputs": [],
   "source": [
    "majority_cluster = dataset['cluster'].mode()[0]\n",
    "majority_cluster_data = dataset[dataset['cluster'] == majority_cluster]"
   ]
  },
  {
   "cell_type": "code",
   "execution_count": 68,
   "id": "f9b909e1",
   "metadata": {},
   "outputs": [
    {
     "name": "stdout",
     "output_type": "stream",
     "text": [
      "                          Nama       Alamat  Kelamin  Umur  cluster\n",
      "0   Anggun Kholifatul Khasanah   Karangrejo        1    10        0\n",
      "1      Anggun Afifah Nurulaini  Pandanharum        1     2        0\n",
      "2         Faizul Naam Hafizhan   Karangrejo        0     1        0\n",
      "4          Salsabila Aufa Puji     Kalipang        1    10        0\n",
      "5                        Mirza        Gabus        0     7        0\n",
      "..                         ...          ...      ...   ...      ...\n",
      "83      Rizqia Putri Ramadhani  Tunggulrejo        1     2        0\n",
      "84               Faleshia Zoya   Bendoharjo        1     4        0\n",
      "85         Hafidzah Prominensa        Gabus        1     9        0\n",
      "87      Khaliza Shesha Safitri   Bendoharjo        1     0        0\n",
      "88                    Alfiatun  Pandanharum        1     1        0\n",
      "\n",
      "[65 rows x 5 columns]\n"
     ]
    }
   ],
   "source": [
    "print(majority_cluster_data)"
   ]
  },
  {
   "cell_type": "code",
   "execution_count": 70,
   "id": "d7bc1de4",
   "metadata": {},
   "outputs": [],
   "source": [
    "gender_counts = majority_cluster_data['Kelamin'].value_counts()\n",
    "total_samples = len(majority_cluster_data)"
   ]
  },
  {
   "cell_type": "code",
   "execution_count": 71,
   "id": "c4305e70",
   "metadata": {},
   "outputs": [
    {
     "name": "stdout",
     "output_type": "stream",
     "text": [
      "1: 69.23%\n",
      "0: 30.77%\n"
     ]
    }
   ],
   "source": [
    "for gender, count in gender_counts.items():\n",
    "    percentage = (count / total_samples) * 100\n",
    "    print(f\"{gender}: {percentage:.2f}%\")"
   ]
  },
  {
   "cell_type": "code",
   "execution_count": 72,
   "id": "8b6b63ab",
   "metadata": {},
   "outputs": [
    {
     "data": {
      "image/png": "[encoded data removed]",
      "text/plain": [
       "<Figure size 1000x500 with 1 Axes>"
      ]
     },
     "metadata": {},
     "output_type": "display_data"
    }
   ],
   "source": [
    "plt.figure(figsize=(10, 5))\n",
    "dendrogram(linkage_matrix)\n",
    "plt.title('Hierarchical Clustering Dendrogram')\n",
    "plt.xlabel('Data Points')\n",
    "plt.ylabel('Distance')\n",
    "plt.show()"
   ]
  },
  {
   "cell_type": "code",
   "execution_count": null,
   "id": "735011d1",
   "metadata": {},
   "outputs": [],
   "source": [
    "#sementara"
   ]
  }
 ],
 "metadata": {
  "kernelspec": {
   "display_name": "Python 3 (ipykernel)",
   "language": "python",
   "name": "python3"
  },
  "language_info": {
   "codemirror_mode": {
    "name": "ipython",
    "version": 3
   },
   "file_extension": ".py",
   "mimetype": "text/x-python",
   "name": "python",
   "nbconvert_exporter": "python",
   "pygments_lexer": "ipython3",
   "version": "3.11.5"
  }
 },
 "nbformat": 4,
 "nbformat_minor": 5
}
